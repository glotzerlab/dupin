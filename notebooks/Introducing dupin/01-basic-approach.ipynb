{
 "cells": [
  {
   "cell_type": "markdown",
   "id": "f1ebdc87-7048-4d26-b592-3920cc8fc0cc",
   "metadata": {},
   "source": [
    "# Basic Approach\n",
    "\n",
    "## Outline\n",
    "### Questions\n",
    "- What is the approach for finding events in **dupin**?\n",
    "- What is the basic definition for each step in the event detection scheme?\n",
    "\n",
    "### Objectives\n",
    "- Explain the six step model for event detection used by **dupin**.\n",
    "- Define the basic outline of each step.\n",
    "\n",
    "\n",
    "# Six Step Detection\n",
    "**dupin** is based on a 6 step method for detecting events in point cloud data.\n",
    "\n",
    "1. Generate: Generate basic features from the point cloud. Such features can be per-point, aggregate, or global.\n",
    "2. Map: Transform the generated data into different distributions such as neighbor point averaging.\n",
    "3. Reduce: Take the non-scalar features and create scalar features from them (e.g. maximum, minimum, spread, mean, ...).\n",
    "4. Aggregate: Perform the first three steps across the time dimension of the point cloud data.\n",
    "5. Transform: Transform the signal using signal processing into a new feature signal (essentially the map step applied in the time direction). This step can involve feature selection or dimensionality reduction.\n",
    "6. Detect: Given the final feature signal detect events if any in the data.\n",
    "\n",
    "The first, fourth, and sixth steps are always necessary; however, most are useful in common use cases.\n",
    "This tutorial will go through all six step in the detection process."
   ]
  }
 ],
 "metadata": {
  "kernelspec": {
   "display_name": "Python (dupin)",
   "language": "python",
   "name": "dupin"
  },
  "language_info": {
   "codemirror_mode": {
    "name": "ipython",
    "version": 3
   },
   "file_extension": ".py",
   "mimetype": "text/x-python",
   "name": "python",
   "nbconvert_exporter": "python",
   "pygments_lexer": "ipython3",
   "version": "3.10.6"
  }
 },
 "nbformat": 4,
 "nbformat_minor": 5
}
