{
 "cells": [
  {
   "cell_type": "code",
   "execution_count": null,
   "metadata": {},
   "outputs": [],
   "source": [
    "import sys\n",
    "sys.path.insert(0, '/home/brandon/dev/hoomd-blue/build')\n",
    "sys.path.insert(0, '/home/brandon/dev/hoomdpy-addons')"
   ]
  },
  {
   "cell_type": "code",
   "execution_count": null,
   "metadata": {},
   "outputs": [],
   "source": [
    "import datetime\n",
    "import os\n",
    "\n",
    "import numpy as np\n",
    "from tqdm.notebook import tqdm\n",
    "\n",
    "import gsd.hoomd\n",
    "import rowan\n",
    "import hoomd\n",
    "from hoomd import md\n",
    "from hoomdpy_addons.visualization import Notebook\n",
    "\n",
    "FILENAME='lj-sim.gsd'"
   ]
  },
  {
   "cell_type": "code",
   "execution_count": null,
   "metadata": {},
   "outputs": [],
   "source": [
    "!rm lj-sim.gsd"
   ]
  },
  {
   "cell_type": "code",
   "execution_count": null,
   "metadata": {},
   "outputs": [],
   "source": [
    "box = hoomd.Box.cube(10.)\n",
    "N_unitcells_per_dim = 9\n",
    "Np = N_unitcells_per_dim ** 3\n",
    "if not os.path.exists(FILENAME):\n",
    "    snap = gsd.hoomd.Snapshot()\n",
    "    snap.configuration.box = [*box.L, *box.tilts]\n",
    "    xs = np.linspace(-box.Lx / 2,\n",
    "                     box.Lx / 2,\n",
    "                     N_unitcells_per_dim,\n",
    "                     endpoint=False)\n",
    "    positions = np.zeros((Np, 3))\n",
    "    positions[:] = np.array(\n",
    "        [a.ravel() for a in np.meshgrid(xs, xs, xs)]).T\n",
    "    \n",
    "    snap.particles.position = positions\n",
    "    snap.particles.N = Np\n",
    "    snap.particles.types = ['A']\n",
    "    snap.particles.typeid = np.zeros(len(positions), dtype=int)\n",
    "    with gsd.hoomd.open(FILENAME, 'xb') as trajectory:\n",
    "        trajectory.append(snap)"
   ]
  },
  {
   "cell_type": "code",
   "execution_count": null,
   "metadata": {},
   "outputs": [],
   "source": [
    "sim = hoomd.Simulation(hoomd.device.CPU(),\n",
    "                       seed=59)\n",
    "sim.create_state_from_gsd(FILENAME)\n",
    "sim.state.thermalize_particle_momenta(hoomd.filter.All(), kT=1.0)"
   ]
  },
  {
   "cell_type": "code",
   "execution_count": null,
   "metadata": {},
   "outputs": [],
   "source": [
    "kT = 4.0\n",
    "lj = md.pair.LJ(nlist=md.nlist.Cell(), r_cut=2.5)\n",
    "lj.params[('A', 'A')] = {'epsilon': 1. / kT,\n",
    "                          'sigma': 1.}\n",
    "dt = 0.005\n",
    "\n",
    "nvt = md.methods.NVT(\n",
    "    hoomd.filter.All(),\n",
    "    kT=hoomd.variant.Ramp(1.0, 1 / (4 * kT), 50_000, 100_000),\n",
    "    tau=100 * dt)\n",
    "integrator = md.Integrator(dt=dt, methods=[nvt], forces=[lj])"
   ]
  },
  {
   "cell_type": "code",
   "execution_count": null,
   "metadata": {},
   "outputs": [],
   "source": [
    "sim.operations += integrator"
   ]
  },
  {
   "cell_type": "code",
   "execution_count": null,
   "metadata": {},
   "outputs": [],
   "source": [
    "gsd = hoomd.write.GSD(\n",
    "    FILENAME,\n",
    "    trigger=hoomd.trigger.And(\n",
    "        [hoomd.trigger.Periodic(1_000),\n",
    "         hoomd.trigger.After(50_000)]\n",
    "    ),\n",
    "    filter=hoomd.filter.All()\n",
    ")\n",
    "sim.operations += gsd"
   ]
  },
  {
   "cell_type": "code",
   "execution_count": null,
   "metadata": {},
   "outputs": [],
   "source": [
    "box_resize = hoomd.update.BoxResize(\n",
    "    trigger=10,\n",
    "    variant=hoomd.variant.Ramp(0, 1, 100, 50_000),\n",
    "    box1=sim.state.box,\n",
    "    box2=hoomd.Box.cube((Np / 1.4142) ** (1. / 3.))\n",
    "    )\n",
    "sim.operations += box_resize"
   ]
  },
  {
   "cell_type": "code",
   "execution_count": null,
   "metadata": {},
   "outputs": [],
   "source": [
    "logger = hoomd.logging.Logger(categories=['scalar', 'string'])\n",
    "logger['Step'] = (lambda: sim.timestep, 'scalar')\n",
    "\n",
    "def eta():\n",
    "    timesteps_remaining = sim.final_timestep - sim.timestep\n",
    "    seconds_remaining = timesteps_remaining / sim.tps\n",
    "    return str(\n",
    "        datetime.timedelta(seconds=seconds_remaining)\n",
    "    )\n",
    "\n",
    "logger['ETR'] = (eta, 'string')\n",
    "table = hoomd.write.Table(\n",
    "    trigger=10_000,\n",
    "    logger=logger\n",
    ")\n",
    "sim.operations += table"
   ]
  },
  {
   "cell_type": "code",
   "execution_count": null,
   "metadata": {},
   "outputs": [],
   "source": [
    "visual = hoomd.write.CustomWriter(trigger=500, action=Notebook())\n",
    "sim.operations += visual"
   ]
  },
  {
   "cell_type": "code",
   "execution_count": null,
   "metadata": {},
   "outputs": [],
   "source": [
    "sim.operations -= visual"
   ]
  },
  {
   "cell_type": "code",
   "execution_count": null,
   "metadata": {},
   "outputs": [],
   "source": [
    "sim.run(150_000)"
   ]
  },
  {
   "cell_type": "code",
   "execution_count": null,
   "metadata": {},
   "outputs": [],
   "source": []
  }
 ],
 "metadata": {
  "kernelspec": {
   "display_name": "Python 3",
   "language": "python",
   "name": "python3"
  },
  "language_info": {
   "codemirror_mode": {
    "name": "ipython",
    "version": 3
   },
   "file_extension": ".py",
   "mimetype": "text/x-python",
   "name": "python",
   "nbconvert_exporter": "python",
   "pygments_lexer": "ipython3",
   "version": "3.8.5"
  }
 },
 "nbformat": 4,
 "nbformat_minor": 4
}
