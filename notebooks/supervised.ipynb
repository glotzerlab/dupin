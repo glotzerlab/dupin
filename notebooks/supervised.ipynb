{
 "cells": [
  {
   "cell_type": "markdown",
   "id": "1059bf39-44dd-4458-ad4b-f790696cc74a",
   "metadata": {},
   "source": [
    "## Supervised Approach\n",
    "\n",
    "An additional approach that can be taken is to use a weak classifier to\n",
    "attempt to discern the left and the right half of a sliding window along\n",
    "the trajectory.\n",
    "\n",
    "### Import All the Things"
   ]
  },
  {
   "cell_type": "code",
   "execution_count": null,
   "id": "b86d1a7d-d8ac-41e0-8eda-4fcfbcc6a4c1",
   "metadata": {},
   "outputs": [],
   "source": [
    "import matplotlib.pyplot as plt\n",
    "import numpy as np\n",
    "import pandas as pd\n",
    "import ruptures as rpt  # change point detection library\n",
    "import scipy as sp\n",
    "from scipy.ndimage import median_filter\n",
    "import sklearn as sk\n",
    "\n",
    "import dupin as du\n",
    "\n",
    "FILENAME = \"lj-data.h5\""
   ]
  },
  {
   "cell_type": "markdown",
   "id": "6e0a08df-99d8-4439-9bca-d2f556bc0b81",
   "metadata": {},
   "source": [
    "### Import Trajectory Data\n",
    "\n",
    "We also normalize all features to a range of $[0, 1]$."
   ]
  },
  {
   "cell_type": "code",
   "execution_count": null,
   "id": "0d4d86ba-1f2c-4495-b2bb-2b0bcb21e09c",
   "metadata": {},
   "outputs": [],
   "source": [
    "df = pd.read_hdf(FILENAME, \"pruned\")\n",
    "df.head()"
   ]
  },
  {
   "cell_type": "markdown",
   "id": "09d11ac6-6808-4e6d-9962-01d60383e9a4",
   "metadata": {},
   "source": [
    "### Compute Errors\n",
    "\n",
    "We start by creating a weak classifier and a `Window` object.\n",
    "The `Window` object has a `compute` method that will train\n",
    "$n - \\text{window_size}$ classifiers to discriminate between\n",
    "the left and right half of the window. The errors are recorded\n",
    "and returned in a list."
   ]
  },
  {
   "cell_type": "code",
   "execution_count": null,
   "id": "6037a903-9b2b-49cc-8c54-39b385a40680",
   "metadata": {},
   "outputs": [],
   "source": [
    "# Create a weak classifier only allowing a stump\n",
    "decision_tree = sk.tree.DecisionTreeClassifier(max_depth=1)\n",
    "\n",
    "window = du.preprocessing.supervised.Window(\n",
    "    classifier=decision_tree, window_size=20, test_size=0.5,\n",
    "    n_classifiers=100, combine_errors=\"mean\"\n",
    ")\n",
    "\n",
    "data = df.to_numpy()\n",
    "errors = {}\n",
    "errors[\"\"] = window.compute(data)"
   ]
  },
  {
   "cell_type": "markdown",
   "id": "d9d0ce07-d493-4260-b15b-777ba40b1b2e",
   "metadata": {},
   "source": [
    "### Smooth Error Signal\n",
    "\n",
    "The raw errors for a classifier (see plot below) can be a bit jagged.\n",
    "Different signal filter can be used to smooth out some of the noise of\n",
    "the classification error.\n",
    "\n",
    "Here we use a moving average approach and a median filter from SciPy."
   ]
  },
  {
   "cell_type": "code",
   "execution_count": null,
   "id": "f9058f81-4cff-42c0-9fe9-36d5cf1f0503",
   "metadata": {},
   "outputs": [],
   "source": [
    "errors[\"smoothed\"] = du.preprocessing.signal.moving_average(y=errors[\"\"], span=7)\n",
    "errors[\"median\"] = median_filter(errors[\"\"], size=7, mode=\"reflect\")"
   ]
  },
  {
   "cell_type": "markdown",
   "id": "b065017b-9e60-4649-bf15-e934ff8be62b",
   "metadata": {},
   "source": [
    "### Plot error signals"
   ]
  },
  {
   "cell_type": "code",
   "execution_count": null,
   "id": "0edcc349-e9a8-4d6f-baa2-1f6ba81a3c7b",
   "metadata": {},
   "outputs": [],
   "source": [
    "fig, ax = plt.subplots(1, 3, figsize=(14, 5))\n",
    "# Frame is shifted since the first window is centered\n",
    "# at half its length.\n",
    "frame = np.arange(7, 7 + len(window.errors))\n",
    "ax[0].plot(frame, errors[\"\"])\n",
    "ax[0].title.set_text(\"Classifier Error\")\n",
    "ax[0].title.set_size(15)\n",
    "ax[1].plot(frame, errors[\"smoothed\"])\n",
    "ax[1].title.set_text(\"Smoothed Classifier Error\")\n",
    "ax[1].title.set_size(15)\n",
    "ax[2].plot(frame, errors[\"median\"])\n",
    "ax[2].title.set_text(\"Median Classifier Error\")\n",
    "ax[2].title.set_size(15)\n",
    "fig.tight_layout();"
   ]
  },
  {
   "cell_type": "markdown",
   "id": "ed388982-e8a0-407a-9618-b548d91488e3",
   "metadata": {},
   "source": [
    "### Detect Events\n",
    "\n",
    "Now we use the same detector as before with a different cost\n",
    "function to more appropriately find the expected signal of change."
   ]
  },
  {
   "cell_type": "code",
   "execution_count": null,
   "id": "b92b5678-ad3f-46c9-8dd4-2d714aa6a1b0",
   "metadata": {},
   "outputs": [],
   "source": [
    "detectors = {}\n",
    "detectors[\"\"] = du.detect.offline.SweepDetector(\n",
    "    rpt.Dynp(model=\"l1\"), max_change_points=6\n",
    ")\n",
    "detectors[\"smoothed\"] = du.detect.offline.SweepDetector(\n",
    "    rpt.Dynp(model=\"l1\"), max_change_points=6\n",
    ")\n",
    "detectors[\"median\"] = du.detect.offline.SweepDetector(\n",
    "    rpt.Dynp(model=\"l1\"), max_change_points=8\n",
    ")\n",
    "\n",
    "for filtering, detector in detectors.items():\n",
    "    detector.fit(errors[filtering])\n",
    "    specification = \" \" + filtering if filtering else filtering\n",
    "    print(f\"Optimal change points{specification}: {detector.opt_change_points_}\")"
   ]
  },
  {
   "cell_type": "markdown",
   "id": "4d4891a1-9495-4f5f-b06b-3d16e8a5bd5c",
   "metadata": {},
   "source": [
    "### Plot errors with the change points and costs"
   ]
  },
  {
   "cell_type": "code",
   "execution_count": null,
   "id": "8ab78545-3d88-4e5a-877d-5b3fe6904936",
   "metadata": {},
   "outputs": [],
   "source": [
    "def plot_error(ax, errors, filtering, change_points):\n",
    "    ax.plot(frame, errors)\n",
    "    title = \"Classifier Error\"\n",
    "    if filtering != \"\":\n",
    "        title = \" \".join((filtering, title))\n",
    "    ax.set_title(\"Classifier Error\", size=15)\n",
    "    ax.vlines(change_points, min(errors), max(errors), 'k')\n",
    "    \n",
    "\n",
    "def plot_costs(ax, detector, filtering):\n",
    "    costs = detector.costs_\n",
    "    ax.plot(costs)\n",
    "    title = \"Costs\"\n",
    "    if filtering != \"\":\n",
    "        title = \" \".join((filtering, title))\n",
    "    ax.set_title(title, size=15)\n",
    "    ax.vlines(detector.opt_n_change_points_, min(costs), max(costs), 'k')\n",
    "    \n",
    "\n",
    "fig, axes = plt.subplots(2, 3, figsize=(15, 10))\n",
    "    \n",
    "for ax, (filtering, detector) in zip(axes.T, detectors.items()):\n",
    "    plot_error(\n",
    "        ax[0], errors[filtering],\n",
    "        filtering.title(), detector.opt_change_points_\n",
    "    )\n",
    "    plot_costs(ax[1], detector, filtering.title())\n",
    "    \n",
    "fig.tight_layout();"
   ]
  },
  {
   "cell_type": "code",
   "execution_count": null,
   "id": "35849eba-16be-41e9-afcb-33662a9549c6",
   "metadata": {},
   "outputs": [],
   "source": []
  }
 ],
 "metadata": {
  "kernelspec": {
   "display_name": "Research (conda)",
   "language": "python",
   "name": "research"
  },
  "language_info": {
   "codemirror_mode": {
    "name": "ipython",
    "version": 3
   },
   "file_extension": ".py",
   "mimetype": "text/x-python",
   "name": "python",
   "nbconvert_exporter": "python",
   "pygments_lexer": "ipython3",
   "version": "3.8.10"
  }
 },
 "nbformat": 4,
 "nbformat_minor": 5
}
