{
 "cells": [
  {
   "cell_type": "markdown",
   "id": "0",
   "metadata": {},
   "source": [
    "# Collecting Data\n",
    "\n",
    "## Outline\n",
    "### Questions\n",
    "- How do I use a pipeline to transform a frame from a trajectory into features?\n",
    "- How do I collect the entire trajectory's frames into a feature signal?\n",
    "\n",
    "### Objectives\n",
    "- Explain how to use the `SignalAggregator` class to collect generator data into a pandas DataFrame object.\n",
    "- Show passing arguments to a `Generator` and `SignalAggregator` object.\n",
    "\n",
    "## Import"
   ]
  },
  {
   "cell_type": "code",
   "execution_count": 1,
   "id": "1",
   "metadata": {
    "tags": []
   },
   "outputs": [],
   "source": [
    "import freud  # analysis toolkit\n",
    "import gsd.hoomd  # trajectory reader\n",
    "\n",
    "import dupin as du\n",
    "\n",
    "FILENAME = \"../data/lj-sim.gsd\""
   ]
  },
  {
   "cell_type": "code",
   "execution_count": 2,
   "id": "2",
   "metadata": {
    "tags": []
   },
   "outputs": [],
   "source": [
    "def display_dataframe(df):\n",
    "    style = df.head().style\n",
    "    style.set_table_styles(\n",
    "        [\n",
    "            {\n",
    "                \"selector\": \"th\",\n",
    "                \"props\": \"background-color: #666666; color: #ffffff; border: 1px solid #222222;\",\n",
    "            },\n",
    "            {\n",
    "                \"selector\": \"td\",\n",
    "                \"props\": \"background-color: #666666; color: #ffffff; border: 1px solid #222222;\",\n",
    "            },\n",
    "        ]\n",
    "    )\n",
    "    display(style)"
   ]
  },
  {
   "cell_type": "markdown",
   "id": "3",
   "metadata": {},
   "source": [
    "## Create the generator\n",
    "\n",
    "We use the generator from the last section of the tutorial."
   ]
  },
  {
   "cell_type": "code",
   "execution_count": 3,
   "id": "4",
   "metadata": {
    "tags": []
   },
   "outputs": [],
   "source": [
    "ls = (2, 4, 6, 8, 10, 12)\n",
    "steinhardt = freud.order.Steinhardt(l=ls)\n",
    "\n",
    "pipeline = du.data.freud.FreudDescriptor(\n",
    "    compute=steinhardt, attrs={\"particle_order\": [f\"$Q_{{{i}}}$\" for i in ls]}\n",
    ").pipe(du.data.reduce.NthGreatest((-1, 1, 10, -10)))"
   ]
  },
  {
   "cell_type": "markdown",
   "id": "5",
   "metadata": {},
   "source": [
    "## Calling the Generator\n",
    "\n",
    "### Passing Arguments\n",
    "\n",
    "Most of the time, we will want to pass arguments to a generator object.\n",
    "However, most of the time, we have also created a multi-step pipeline which may require their own arguments or not accept any.\n",
    "While the full availability of options for argument handling in the pipeline is not appropriate for this tutorial, in general adding elements to the pipeline does not change the signature expected.\n",
    "That is we can just pass the expected arguments of the original generator.\n",
    "\n",
    "For our generator, the arguments are a *system*-like object which is a [freud](https://github.com/glotzerlab/freud) concept and neighbor query arguments to specify the local point neighbors to consider.\n",
    "One such *system*-like object is a `gsd.hoomd.Frame` object which we use below to showcase using the pipeline defined above."
   ]
  },
  {
   "cell_type": "code",
   "execution_count": 4,
   "id": "6",
   "metadata": {
    "tags": []
   },
   "outputs": [
    {
     "data": {
      "text/plain": [
       "{'10th_greatest_$Q_{2}$': 0.20412414,\n",
       " '1st_greatest_$Q_{2}$': 0.25000003,\n",
       " '1st_least_$Q_{2}$': 2.1715324e-07,\n",
       " '10th_least_$Q_{2}$': 2.2129704e-07,\n",
       " '10th_greatest_$Q_{4}$': 0.36916766,\n",
       " '1st_greatest_$Q_{4}$': 0.3807429,\n",
       " '1st_least_$Q_{4}$': 0.28641072,\n",
       " '10th_least_$Q_{4}$': 0.28641072,\n",
       " '10th_greatest_$Q_{6}$': 0.22060224,\n",
       " '1st_greatest_$Q_{6}$': 0.25863975,\n",
       " '1st_least_$Q_{6}$': 0.110485375,\n",
       " '10th_least_$Q_{6}$': 0.110485375,\n",
       " '10th_greatest_$Q_{8}$': 0.59512764,\n",
       " '1st_greatest_$Q_{8}$': 0.6035463,\n",
       " '1st_least_$Q_{8}$': 0.5609913,\n",
       " '10th_least_$Q_{8}$': 0.5609913,\n",
       " '10th_greatest_$Q_{10}$': 0.2726314,\n",
       " '1st_greatest_$Q_{10}$': 0.30271238,\n",
       " '1st_least_$Q_{10}$': 0.1992841,\n",
       " '10th_least_$Q_{10}$': 0.19928412,\n",
       " '10th_greatest_$Q_{12}$': 0.43338743,\n",
       " '1st_greatest_$Q_{12}$': 0.44562435,\n",
       " '1st_least_$Q_{12}$': 0.4078147,\n",
       " '10th_least_$Q_{12}$': 0.40781474}"
      ]
     },
     "metadata": {},
     "output_type": "display_data"
    }
   ],
   "source": [
    "nlist_kwargs = {\"num_neighbors\": 12, \"exclude_ii\": True}\n",
    "with gsd.hoomd.open(FILENAME, \"rb\") as traj:\n",
    "    display(pipeline(traj[0], nlist_kwargs))"
   ]
  },
  {
   "cell_type": "markdown",
   "id": "7",
   "metadata": {},
   "source": [
    "## Data Collection\n",
    "\n",
    "To collect the data into a usable state, we can use the `SignalAggregator` class.\n",
    "This class takes a generator/pipeline object and through the `accumulate` or `compute` methods stores the sequential frames of features.\n",
    "These can then be turned into a `pandas.DataFrame` object for further manipulation or event detection."
   ]
  },
  {
   "cell_type": "code",
   "execution_count": 5,
   "id": "8",
   "metadata": {
    "tags": []
   },
   "outputs": [],
   "source": [
    "signal_aggregator = du.data.aggregate.SignalAggregator(pipeline)"
   ]
  },
  {
   "cell_type": "markdown",
   "id": "9",
   "metadata": {},
   "source": [
    "For this tutorial, we will use the `accumulate` method which is a bit simpler to use than `compute`.\n",
    "For `accumulate`, we call the method with the arguments expected by the composed pipeline.\n",
    "This results in a new *frame* of features being stored in the `SignalAggregator` class.\n",
    "Therefore, we iterate over the trajectory frames in order.\n",
    "After computing the features for all features, we call `to_dataframe` to get the DataFrame object.\n",
    "We then save the data to a HDF5 file (for future use in the tutorial)."
   ]
  },
  {
   "cell_type": "code",
   "execution_count": 6,
   "id": "10",
   "metadata": {
    "tags": []
   },
   "outputs": [
    {
     "data": {
      "text/html": [
       "<style type=\"text/css\">\n",
       "#T_157a7 th {\n",
       "  background-color: #666666;\n",
       "  color: #ffffff;\n",
       "  border: 1px solid #222222;\n",
       "}\n",
       "#T_157a7 td {\n",
       "  background-color: #666666;\n",
       "  color: #ffffff;\n",
       "  border: 1px solid #222222;\n",
       "}\n",
       "</style>\n",
       "<table id=\"T_157a7\">\n",
       "  <thead>\n",
       "    <tr>\n",
       "      <th class=\"blank level0\" >&nbsp;</th>\n",
       "      <th id=\"T_157a7_level0_col0\" class=\"col_heading level0 col0\" >10th_greatest_$Q_{2}$</th>\n",
       "      <th id=\"T_157a7_level0_col1\" class=\"col_heading level0 col1\" >1st_greatest_$Q_{2}$</th>\n",
       "      <th id=\"T_157a7_level0_col2\" class=\"col_heading level0 col2\" >1st_least_$Q_{2}$</th>\n",
       "      <th id=\"T_157a7_level0_col3\" class=\"col_heading level0 col3\" >10th_least_$Q_{2}$</th>\n",
       "      <th id=\"T_157a7_level0_col4\" class=\"col_heading level0 col4\" >10th_greatest_$Q_{4}$</th>\n",
       "      <th id=\"T_157a7_level0_col5\" class=\"col_heading level0 col5\" >1st_greatest_$Q_{4}$</th>\n",
       "      <th id=\"T_157a7_level0_col6\" class=\"col_heading level0 col6\" >1st_least_$Q_{4}$</th>\n",
       "      <th id=\"T_157a7_level0_col7\" class=\"col_heading level0 col7\" >10th_least_$Q_{4}$</th>\n",
       "      <th id=\"T_157a7_level0_col8\" class=\"col_heading level0 col8\" >10th_greatest_$Q_{6}$</th>\n",
       "      <th id=\"T_157a7_level0_col9\" class=\"col_heading level0 col9\" >1st_greatest_$Q_{6}$</th>\n",
       "      <th id=\"T_157a7_level0_col10\" class=\"col_heading level0 col10\" >1st_least_$Q_{6}$</th>\n",
       "      <th id=\"T_157a7_level0_col11\" class=\"col_heading level0 col11\" >10th_least_$Q_{6}$</th>\n",
       "      <th id=\"T_157a7_level0_col12\" class=\"col_heading level0 col12\" >10th_greatest_$Q_{8}$</th>\n",
       "      <th id=\"T_157a7_level0_col13\" class=\"col_heading level0 col13\" >1st_greatest_$Q_{8}$</th>\n",
       "      <th id=\"T_157a7_level0_col14\" class=\"col_heading level0 col14\" >1st_least_$Q_{8}$</th>\n",
       "      <th id=\"T_157a7_level0_col15\" class=\"col_heading level0 col15\" >10th_least_$Q_{8}$</th>\n",
       "      <th id=\"T_157a7_level0_col16\" class=\"col_heading level0 col16\" >10th_greatest_$Q_{10}$</th>\n",
       "      <th id=\"T_157a7_level0_col17\" class=\"col_heading level0 col17\" >1st_greatest_$Q_{10}$</th>\n",
       "      <th id=\"T_157a7_level0_col18\" class=\"col_heading level0 col18\" >1st_least_$Q_{10}$</th>\n",
       "      <th id=\"T_157a7_level0_col19\" class=\"col_heading level0 col19\" >10th_least_$Q_{10}$</th>\n",
       "      <th id=\"T_157a7_level0_col20\" class=\"col_heading level0 col20\" >10th_greatest_$Q_{12}$</th>\n",
       "      <th id=\"T_157a7_level0_col21\" class=\"col_heading level0 col21\" >1st_greatest_$Q_{12}$</th>\n",
       "      <th id=\"T_157a7_level0_col22\" class=\"col_heading level0 col22\" >1st_least_$Q_{12}$</th>\n",
       "      <th id=\"T_157a7_level0_col23\" class=\"col_heading level0 col23\" >10th_least_$Q_{12}$</th>\n",
       "    </tr>\n",
       "  </thead>\n",
       "  <tbody>\n",
       "    <tr>\n",
       "      <th id=\"T_157a7_level0_row0\" class=\"row_heading level0 row0\" >0</th>\n",
       "      <td id=\"T_157a7_row0_col0\" class=\"data row0 col0\" >0.204124</td>\n",
       "      <td id=\"T_157a7_row0_col1\" class=\"data row0 col1\" >0.250000</td>\n",
       "      <td id=\"T_157a7_row0_col2\" class=\"data row0 col2\" >0.000000</td>\n",
       "      <td id=\"T_157a7_row0_col3\" class=\"data row0 col3\" >0.000000</td>\n",
       "      <td id=\"T_157a7_row0_col4\" class=\"data row0 col4\" >0.369168</td>\n",
       "      <td id=\"T_157a7_row0_col5\" class=\"data row0 col5\" >0.380743</td>\n",
       "      <td id=\"T_157a7_row0_col6\" class=\"data row0 col6\" >0.286411</td>\n",
       "      <td id=\"T_157a7_row0_col7\" class=\"data row0 col7\" >0.286411</td>\n",
       "      <td id=\"T_157a7_row0_col8\" class=\"data row0 col8\" >0.220602</td>\n",
       "      <td id=\"T_157a7_row0_col9\" class=\"data row0 col9\" >0.258640</td>\n",
       "      <td id=\"T_157a7_row0_col10\" class=\"data row0 col10\" >0.110485</td>\n",
       "      <td id=\"T_157a7_row0_col11\" class=\"data row0 col11\" >0.110485</td>\n",
       "      <td id=\"T_157a7_row0_col12\" class=\"data row0 col12\" >0.595128</td>\n",
       "      <td id=\"T_157a7_row0_col13\" class=\"data row0 col13\" >0.603546</td>\n",
       "      <td id=\"T_157a7_row0_col14\" class=\"data row0 col14\" >0.560991</td>\n",
       "      <td id=\"T_157a7_row0_col15\" class=\"data row0 col15\" >0.560991</td>\n",
       "      <td id=\"T_157a7_row0_col16\" class=\"data row0 col16\" >0.272631</td>\n",
       "      <td id=\"T_157a7_row0_col17\" class=\"data row0 col17\" >0.302712</td>\n",
       "      <td id=\"T_157a7_row0_col18\" class=\"data row0 col18\" >0.199284</td>\n",
       "      <td id=\"T_157a7_row0_col19\" class=\"data row0 col19\" >0.199284</td>\n",
       "      <td id=\"T_157a7_row0_col20\" class=\"data row0 col20\" >0.433387</td>\n",
       "      <td id=\"T_157a7_row0_col21\" class=\"data row0 col21\" >0.445624</td>\n",
       "      <td id=\"T_157a7_row0_col22\" class=\"data row0 col22\" >0.407815</td>\n",
       "      <td id=\"T_157a7_row0_col23\" class=\"data row0 col23\" >0.407815</td>\n",
       "    </tr>\n",
       "    <tr>\n",
       "      <th id=\"T_157a7_level0_row1\" class=\"row_heading level0 row1\" >1</th>\n",
       "      <td id=\"T_157a7_row1_col0\" class=\"data row1 col0\" >0.153610</td>\n",
       "      <td id=\"T_157a7_row1_col1\" class=\"data row1 col1\" >0.167962</td>\n",
       "      <td id=\"T_157a7_row1_col2\" class=\"data row1 col2\" >0.023381</td>\n",
       "      <td id=\"T_157a7_row1_col3\" class=\"data row1 col3\" >0.033380</td>\n",
       "      <td id=\"T_157a7_row1_col4\" class=\"data row1 col4\" >0.214287</td>\n",
       "      <td id=\"T_157a7_row1_col5\" class=\"data row1 col5\" >0.235337</td>\n",
       "      <td id=\"T_157a7_row1_col6\" class=\"data row1 col6\" >0.056236</td>\n",
       "      <td id=\"T_157a7_row1_col7\" class=\"data row1 col7\" >0.073473</td>\n",
       "      <td id=\"T_157a7_row1_col8\" class=\"data row1 col8\" >0.525133</td>\n",
       "      <td id=\"T_157a7_row1_col9\" class=\"data row1 col9\" >0.567725</td>\n",
       "      <td id=\"T_157a7_row1_col10\" class=\"data row1 col10\" >0.251675</td>\n",
       "      <td id=\"T_157a7_row1_col11\" class=\"data row1 col11\" >0.287110</td>\n",
       "      <td id=\"T_157a7_row1_col12\" class=\"data row1 col12\" >0.370811</td>\n",
       "      <td id=\"T_157a7_row1_col13\" class=\"data row1 col13\" >0.404888</td>\n",
       "      <td id=\"T_157a7_row1_col14\" class=\"data row1 col14\" >0.136324</td>\n",
       "      <td id=\"T_157a7_row1_col15\" class=\"data row1 col15\" >0.168037</td>\n",
       "      <td id=\"T_157a7_row1_col16\" class=\"data row1 col16\" >0.302344</td>\n",
       "      <td id=\"T_157a7_row1_col17\" class=\"data row1 col17\" >0.343929</td>\n",
       "      <td id=\"T_157a7_row1_col18\" class=\"data row1 col18\" >0.120105</td>\n",
       "      <td id=\"T_157a7_row1_col19\" class=\"data row1 col19\" >0.152464</td>\n",
       "      <td id=\"T_157a7_row1_col20\" class=\"data row1 col20\" >0.397878</td>\n",
       "      <td id=\"T_157a7_row1_col21\" class=\"data row1 col21\" >0.438995</td>\n",
       "      <td id=\"T_157a7_row1_col22\" class=\"data row1 col22\" >0.194800</td>\n",
       "      <td id=\"T_157a7_row1_col23\" class=\"data row1 col23\" >0.217982</td>\n",
       "    </tr>\n",
       "    <tr>\n",
       "      <th id=\"T_157a7_level0_row2\" class=\"row_heading level0 row2\" >2</th>\n",
       "      <td id=\"T_157a7_row2_col0\" class=\"data row2 col0\" >0.162579</td>\n",
       "      <td id=\"T_157a7_row2_col1\" class=\"data row2 col1\" >0.187238</td>\n",
       "      <td id=\"T_157a7_row2_col2\" class=\"data row2 col2\" >0.014939</td>\n",
       "      <td id=\"T_157a7_row2_col3\" class=\"data row2 col3\" >0.030309</td>\n",
       "      <td id=\"T_157a7_row2_col4\" class=\"data row2 col4\" >0.210389</td>\n",
       "      <td id=\"T_157a7_row2_col5\" class=\"data row2 col5\" >0.239093</td>\n",
       "      <td id=\"T_157a7_row2_col6\" class=\"data row2 col6\" >0.053894</td>\n",
       "      <td id=\"T_157a7_row2_col7\" class=\"data row2 col7\" >0.075834</td>\n",
       "      <td id=\"T_157a7_row2_col8\" class=\"data row2 col8\" >0.528769</td>\n",
       "      <td id=\"T_157a7_row2_col9\" class=\"data row2 col9\" >0.587941</td>\n",
       "      <td id=\"T_157a7_row2_col10\" class=\"data row2 col10\" >0.196169</td>\n",
       "      <td id=\"T_157a7_row2_col11\" class=\"data row2 col11\" >0.279068</td>\n",
       "      <td id=\"T_157a7_row2_col12\" class=\"data row2 col12\" >0.378292</td>\n",
       "      <td id=\"T_157a7_row2_col13\" class=\"data row2 col13\" >0.422634</td>\n",
       "      <td id=\"T_157a7_row2_col14\" class=\"data row2 col14\" >0.129208</td>\n",
       "      <td id=\"T_157a7_row2_col15\" class=\"data row2 col15\" >0.175510</td>\n",
       "      <td id=\"T_157a7_row2_col16\" class=\"data row2 col16\" >0.310114</td>\n",
       "      <td id=\"T_157a7_row2_col17\" class=\"data row2 col17\" >0.333017</td>\n",
       "      <td id=\"T_157a7_row2_col18\" class=\"data row2 col18\" >0.134413</td>\n",
       "      <td id=\"T_157a7_row2_col19\" class=\"data row2 col19\" >0.154003</td>\n",
       "      <td id=\"T_157a7_row2_col20\" class=\"data row2 col20\" >0.393605</td>\n",
       "      <td id=\"T_157a7_row2_col21\" class=\"data row2 col21\" >0.439719</td>\n",
       "      <td id=\"T_157a7_row2_col22\" class=\"data row2 col22\" >0.170461</td>\n",
       "      <td id=\"T_157a7_row2_col23\" class=\"data row2 col23\" >0.216085</td>\n",
       "    </tr>\n",
       "    <tr>\n",
       "      <th id=\"T_157a7_level0_row3\" class=\"row_heading level0 row3\" >3</th>\n",
       "      <td id=\"T_157a7_row3_col0\" class=\"data row3 col0\" >0.154826</td>\n",
       "      <td id=\"T_157a7_row3_col1\" class=\"data row3 col1\" >0.187591</td>\n",
       "      <td id=\"T_157a7_row3_col2\" class=\"data row3 col2\" >0.023294</td>\n",
       "      <td id=\"T_157a7_row3_col3\" class=\"data row3 col3\" >0.035020</td>\n",
       "      <td id=\"T_157a7_row3_col4\" class=\"data row3 col4\" >0.209281</td>\n",
       "      <td id=\"T_157a7_row3_col5\" class=\"data row3 col5\" >0.226303</td>\n",
       "      <td id=\"T_157a7_row3_col6\" class=\"data row3 col6\" >0.048572</td>\n",
       "      <td id=\"T_157a7_row3_col7\" class=\"data row3 col7\" >0.077595</td>\n",
       "      <td id=\"T_157a7_row3_col8\" class=\"data row3 col8\" >0.543408</td>\n",
       "      <td id=\"T_157a7_row3_col9\" class=\"data row3 col9\" >0.573807</td>\n",
       "      <td id=\"T_157a7_row3_col10\" class=\"data row3 col10\" >0.246732</td>\n",
       "      <td id=\"T_157a7_row3_col11\" class=\"data row3 col11\" >0.284698</td>\n",
       "      <td id=\"T_157a7_row3_col12\" class=\"data row3 col12\" >0.374615</td>\n",
       "      <td id=\"T_157a7_row3_col13\" class=\"data row3 col13\" >0.394863</td>\n",
       "      <td id=\"T_157a7_row3_col14\" class=\"data row3 col14\" >0.137892</td>\n",
       "      <td id=\"T_157a7_row3_col15\" class=\"data row3 col15\" >0.166574</td>\n",
       "      <td id=\"T_157a7_row3_col16\" class=\"data row3 col16\" >0.308446</td>\n",
       "      <td id=\"T_157a7_row3_col17\" class=\"data row3 col17\" >0.343068</td>\n",
       "      <td id=\"T_157a7_row3_col18\" class=\"data row3 col18\" >0.121403</td>\n",
       "      <td id=\"T_157a7_row3_col19\" class=\"data row3 col19\" >0.157507</td>\n",
       "      <td id=\"T_157a7_row3_col20\" class=\"data row3 col20\" >0.396944</td>\n",
       "      <td id=\"T_157a7_row3_col21\" class=\"data row3 col21\" >0.433905</td>\n",
       "      <td id=\"T_157a7_row3_col22\" class=\"data row3 col22\" >0.209838</td>\n",
       "      <td id=\"T_157a7_row3_col23\" class=\"data row3 col23\" >0.227965</td>\n",
       "    </tr>\n",
       "    <tr>\n",
       "      <th id=\"T_157a7_level0_row4\" class=\"row_heading level0 row4\" >4</th>\n",
       "      <td id=\"T_157a7_row4_col0\" class=\"data row4 col0\" >0.145845</td>\n",
       "      <td id=\"T_157a7_row4_col1\" class=\"data row4 col1\" >0.169722</td>\n",
       "      <td id=\"T_157a7_row4_col2\" class=\"data row4 col2\" >0.016966</td>\n",
       "      <td id=\"T_157a7_row4_col3\" class=\"data row4 col3\" >0.032802</td>\n",
       "      <td id=\"T_157a7_row4_col4\" class=\"data row4 col4\" >0.216655</td>\n",
       "      <td id=\"T_157a7_row4_col5\" class=\"data row4 col5\" >0.285643</td>\n",
       "      <td id=\"T_157a7_row4_col6\" class=\"data row4 col6\" >0.033883</td>\n",
       "      <td id=\"T_157a7_row4_col7\" class=\"data row4 col7\" >0.072493</td>\n",
       "      <td id=\"T_157a7_row4_col8\" class=\"data row4 col8\" >0.548409</td>\n",
       "      <td id=\"T_157a7_row4_col9\" class=\"data row4 col9\" >0.578489</td>\n",
       "      <td id=\"T_157a7_row4_col10\" class=\"data row4 col10\" >0.214945</td>\n",
       "      <td id=\"T_157a7_row4_col11\" class=\"data row4 col11\" >0.278768</td>\n",
       "      <td id=\"T_157a7_row4_col12\" class=\"data row4 col12\" >0.371742</td>\n",
       "      <td id=\"T_157a7_row4_col13\" class=\"data row4 col13\" >0.399764</td>\n",
       "      <td id=\"T_157a7_row4_col14\" class=\"data row4 col14\" >0.139842</td>\n",
       "      <td id=\"T_157a7_row4_col15\" class=\"data row4 col15\" >0.162539</td>\n",
       "      <td id=\"T_157a7_row4_col16\" class=\"data row4 col16\" >0.309451</td>\n",
       "      <td id=\"T_157a7_row4_col17\" class=\"data row4 col17\" >0.350324</td>\n",
       "      <td id=\"T_157a7_row4_col18\" class=\"data row4 col18\" >0.118400</td>\n",
       "      <td id=\"T_157a7_row4_col19\" class=\"data row4 col19\" >0.158816</td>\n",
       "      <td id=\"T_157a7_row4_col20\" class=\"data row4 col20\" >0.405271</td>\n",
       "      <td id=\"T_157a7_row4_col21\" class=\"data row4 col21\" >0.443005</td>\n",
       "      <td id=\"T_157a7_row4_col22\" class=\"data row4 col22\" >0.194769</td>\n",
       "      <td id=\"T_157a7_row4_col23\" class=\"data row4 col23\" >0.227046</td>\n",
       "    </tr>\n",
       "  </tbody>\n",
       "</table>\n"
      ],
      "text/plain": [
       "<pandas.io.formats.style.Styler at 0x7f3011c758a0>"
      ]
     },
     "metadata": {},
     "output_type": "display_data"
    }
   ],
   "source": [
    "with gsd.hoomd.open(FILENAME, \"rb\") as traj:\n",
    "    for frame in traj:\n",
    "        signal_aggregator.accumulate(frame, nlist_kwargs)\n",
    "df = signal_aggregator.to_dataframe()\n",
    "df.to_hdf(\"lj-data.h5\", \"data\")\n",
    "display_dataframe(df)"
   ]
  },
  {
   "cell_type": "markdown",
   "id": "11",
   "metadata": {},
   "source": [
    "Now we have finished the event detection method to the fourth step, aggregate.\n",
    "Next we will move to the transform and detect steps."
   ]
  },
  {
   "cell_type": "markdown",
   "id": "12",
   "metadata": {
    "nbsphinx": "hidden",
    "tags": []
   },
   "source": [
    "[Previous section](02-data-pipeline.ipynb) [Next section](04-feature-selection.ipynb)"
   ]
  }
 ],
 "metadata": {
  "kernelspec": {
   "display_name": "Python (dupin)",
   "language": "python",
   "name": "dupin"
  },
  "language_info": {
   "codemirror_mode": {
    "name": "ipython",
    "version": 3
   },
   "file_extension": ".py",
   "mimetype": "text/x-python",
   "name": "python",
   "nbconvert_exporter": "python",
   "pygments_lexer": "ipython3",
   "version": "3.10.12"
  }
 },
 "nbformat": 4,
 "nbformat_minor": 5
}
