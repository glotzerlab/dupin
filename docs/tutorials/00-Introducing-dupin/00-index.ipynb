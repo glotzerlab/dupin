{
 "cells": [
  {
   "cell_type": "markdown",
   "id": "0",
   "metadata": {},
   "source": [
    "# Introducting dupin\n",
    "\n",
    "__dupin__ is an event detection package for molecular simulations.\n",
    "This tutorial serves to provide the information necessary to go from a temporal point cloud of data (e.g. simulation positions across a trajectory) to a set of change points (events) in the data.\n",
    "\n",
    "**Prerequisites:**\n",
    "\n",
    "Basic Python programming skills are assumed.\n"
   ]
  },
  {
   "cell_type": "markdown",
   "id": "1",
   "metadata": {
    "nbsphinx-toctree": {
     "maxdepth": 1
    },
    "tags": []
   },
   "source": [
    "## Sections:\n",
    "\n",
    "1. [Basic Approach](01-basic-approach.ipynb)\n",
    "2. [Setting up a Data Pipeline](02-data-pipeline.ipynb)\n",
    "3. [Collecting Data](03-collecting-data.ipynb)\n",
    "4. [Feature Selection](04-feature-selection.ipynb)\n",
    "5. [Detect Events](05-detect-events.ipynb)"
   ]
  },
  {
   "cell_type": "markdown",
   "id": "2",
   "metadata": {
    "tags": []
   },
   "source": [
    "This tutorial is written using [jupyter](https://jupyter.org/) and the source files can be found in the [dupin repository](https://github.com/glotzerlab/dupin/notebooks)."
   ]
  },
  {
   "cell_type": "markdown",
   "id": "3",
   "metadata": {
    "nbsphinx": "hidden",
    "tags": []
   },
   "source": [
    "[Next section](01-basic-approach.ipynb)"
   ]
  }
 ],
 "metadata": {
  "kernelspec": {
   "display_name": "Python (dupin)",
   "language": "python",
   "name": "dupin"
  },
  "language_info": {
   "codemirror_mode": {
    "name": "ipython",
    "version": 3
   },
   "file_extension": ".py",
   "mimetype": "text/x-python",
   "name": "python",
   "nbconvert_exporter": "python",
   "pygments_lexer": "ipython3",
   "version": "3.10.6"
  },
  "toc-autonumbering": false,
  "toc-showcode": false,
  "toc-showmarkdowntxt": false,
  "toc-showtags": true
 },
 "nbformat": 4,
 "nbformat_minor": 5
}
